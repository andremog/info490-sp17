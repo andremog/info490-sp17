{
 "cells": [
  {
   "cell_type": "markdown",
   "metadata": {
    "nbgrader": {
     "grade": false,
     "locked": false,
     "solution": false
    }
   },
   "source": [
    "# Week 8 Problem 3\n",
    "\n",
    "If you are not using the `Assignments` tab on the course JupyterHub server to read this notebook, read [Activating the assignments tab](https://github.com/lcdm-uiuc/info490-sp17/blob/master/help/act_assign_tab.md).\n",
    "\n",
    "A few things you should keep in mind when working on assignments:\n",
    "\n",
    "1. Make sure you fill in any place that says `YOUR CODE HERE`. Do **not** write your answer in anywhere else other than where it says `YOUR CODE HERE`. Anything you write anywhere else will be removed or overwritten by the autograder.\n",
    "\n",
    "2. Before you submit your assignment, make sure everything runs as expected. Go to menubar, select _Kernel_, and restart the kernel and run all cells (_Restart & Run all_).\n",
    "\n",
    "3. Do not change the title (i.e. file name) of this notebook.\n",
    "\n",
    "4. Make sure that you save your work (in the menubar, select _File_  → _Save and CheckPoint_)\n",
    "\n",
    "5. You are allowed to submit an assignment multiple times, but only the most recent submission will be graded.\n",
    "-----\n",
    "# Problem 8.3. Web Scraping\n",
    "In this problem, we are going to extract information from the website of [World Health Organization](http://www.who.int/countries/en/)."
   ]
  },
  {
   "cell_type": "code",
   "execution_count": 1,
   "metadata": {
    "collapsed": false,
    "deletable": false,
    "nbgrader": {
     "checksum": "3cde41f107e0fe4de3b7ca5ba59116eb",
     "grade": false,
     "grade_id": "import",
     "locked": true,
     "solution": false
    }
   },
   "outputs": [],
   "source": [
    "from IPython.display import HTML, display\n",
    "import requests\n",
    "import bs4\n",
    "from bs4 import BeautifulSoup\n",
    "import re\n",
    "from lxml import html\n",
    "import numpy as np\n",
    "import pandas as pd\n",
    "\n",
    "from nose.tools import assert_equal, assert_is_instance\n",
    "from numpy.testing import assert_array_equal\n",
    "from pandas.util.testing import assert_frame_equal"
   ]
  },
  {
   "cell_type": "markdown",
   "metadata": {},
   "source": [
    "Here is the link to the website that we are going to explore:"
   ]
  },
  {
   "cell_type": "code",
   "execution_count": 2,
   "metadata": {
    "collapsed": false,
    "deletable": false,
    "nbgrader": {
     "checksum": "7408475908f84b928aeef5327169c6e4",
     "grade": false,
     "grade_id": "url",
     "locked": true,
     "solution": false
    }
   },
   "outputs": [],
   "source": [
    "who = 'http://www.who.int/countries/en/'"
   ]
  },
  {
   "cell_type": "markdown",
   "metadata": {},
   "source": [
    "## 1. Function: get_country_url\n",
    "Write a function named `get_country_url` that takes a country name and the WHO url, and returns the corresponding url link (string) to the webpage of that country. For example, if the input country name is `\"France\"`, then you should return `\"http://www.who.int/countries/fra/en/\"`. You may want to inspect the elements of the website on your browser."
   ]
  },
  {
   "cell_type": "code",
   "execution_count": 3,
   "metadata": {
    "collapsed": false,
    "deletable": false,
    "nbgrader": {
     "checksum": "d58f74ea0a86a79c5e44fafbbf632499",
     "grade": false,
     "grade_id": "get_url",
     "locked": false,
     "solution": true
    }
   },
   "outputs": [],
   "source": [
    "def get_country_url(country, url=who):\n",
    "    '''\n",
    "    Finds the url link of the input country on the WHO website.\n",
    "    \n",
    "    Parameters\n",
    "    ----------\n",
    "    country: A string. Name of the country.\n",
    "    url: A string. Default: 'http://www.who.int/countries/en/'\n",
    "    \n",
    "    Returns\n",
    "    -------\n",
    "    A string. Url link of the country.\n",
    "    '''\n",
    "    # get the raw info\n",
    "    response = requests.get(url)\n",
    "    # turn it into a soup\n",
    "    soup = BeautifulSoup(response.content,\"lxml\")\n",
    "    # declare arrays\n",
    "    links=[]\n",
    "    countries=[]\n",
    "    # identify all the links in the main soup and make an array of them in string form\n",
    "    for link in soup.find_all('a'):\n",
    "        links.append(str(link))\n",
    "    # for link in the array check if country is in it\n",
    "    for link in links:\n",
    "        if country in link:\n",
    "                # if country is in the link ,split it at the \" character; the 2nd element in the list is the url\n",
    "                list123=link.split(\"\\\"\")\n",
    "                countries.append(list123[1])\n",
    "\n",
    "    # create a proper url to be returned\n",
    "    country_url=url[:-14]+countries[0]\n",
    "   \n",
    "            \n",
    "    return country_url"
   ]
  },
  {
   "cell_type": "code",
   "execution_count": 4,
   "metadata": {
    "collapsed": false,
    "deletable": false,
    "nbgrader": {
     "checksum": "93c879eb5342c24e4ee6bfe133f2ee19",
     "grade": true,
     "grade_id": "get_url_test",
     "locked": true,
     "points": 10,
     "solution": false
    }
   },
   "outputs": [],
   "source": [
    "t1_url = get_country_url('Panama')\n",
    "assert_equal(t1_url, 'http://www.who.int/countries/pan/en')\n",
    "\n",
    "t2_url = get_country_url('United Kingdom')\n",
    "assert_equal(t2_url, 'http://www.who.int/countries/gbr/en')\n",
    "\n",
    "t3_url = get_country_url('Micronesia (Federated States of)')\n",
    "assert_equal(t3_url, 'http://www.who.int/countries/fsm/en')"
   ]
  },
  {
   "cell_type": "markdown",
   "metadata": {},
   "source": [
    "## 2. Function: get_country_stats\n",
    "\n",
    "If you click the link for a country, `France` for example, you are going to see the following table: \n",
    "![](./images/france.png)\n",
    "Now we'd like to get the data from that table.\n",
    "\n",
    "In the following code cell, write a function named `get_country_stats` that takes a country name and the WHO url, and returns a 2d numpy array containing rows of the HTML table. In the `France` example, the output should look like this:\n",
    "```\n",
    "[['Total population (2015)', '64,395,000'],\n",
    " ['Gross national income per capita (PPP international $, 2013)', '37'],\n",
    " ['Life expectancy at birth m/f (years, 2015)', '79/85'],\n",
    " ['Probability of dying under five (per 1 000 live births, 0)',\n",
    "  'not available'],\n",
    " ['Probability of dying between 15 and 60 years m/f (per 1 000 population, 2015)',\n",
    "  '104/51'],\n",
    " ['Total expenditure on health per capita (Intl $, 2014)', '4,508'],\n",
    " ['Total expenditure on health as % of GDP (2014)', '11.5']]\n",
    "```"
   ]
  },
  {
   "cell_type": "code",
   "execution_count": 58,
   "metadata": {
    "collapsed": true,
    "deletable": false,
    "nbgrader": {
     "checksum": "bd62fe4bd2f9380882b400624e13806e",
     "grade": false,
     "grade_id": "get_stats",
     "locked": false,
     "solution": true
    }
   },
   "outputs": [],
   "source": [
    "def get_country_stats(country, url=who):\n",
    "    '''\n",
    "    Finds the statistical data of the input country on the country's website.\n",
    "    \n",
    "    Parameters\n",
    "    ----------\n",
    "    country: A string. Name of the country.\n",
    "    url: A string. Default: 'http://www.who.int/countries/en/'\n",
    "    \n",
    "    Returns\n",
    "    -------\n",
    "    A 2d numpy array of identical content as the table on the website of the country.\n",
    "    '''\n",
    "    # create lists\n",
    "    list1 = list()\n",
    "    list2 = list()\n",
    "\n",
    "    # get HTML content\n",
    "    the_site=get_country_url(country, url=url)\n",
    "    raw_html = requests.get(the_site)\n",
    "    \n",
    "    # create soup\n",
    "    soup = BeautifulSoup(raw_html.content, 'lxml')\n",
    "    \n",
    "    # locate the tables\n",
    "    tables = soup.find_all('table')[0].tbody\n",
    "\n",
    "    # find the headers for the table\n",
    "    for x in tables:\n",
    "        curr = list()\n",
    "        if(x.find('th') != -1):\n",
    "            curr.append(x.find('th').contents[0])\n",
    "        list1.append(curr)\n",
    "\n",
    "    # delete empty lists in list1\n",
    "    templist=[]\n",
    "    for x in list1:\n",
    "        if x != []:\n",
    "            templist.append(x)\n",
    "    list1=templist\n",
    "    \n",
    "    \n",
    "    # find strong values\n",
    "    for i in tables:\n",
    "        curr = list()\n",
    "        if(i.find('strong') == None):\n",
    "            curr.append('not available')\n",
    "        elif(i.find('strong') != -1):\n",
    "            curr.append(i.find('strong').contents[0])\n",
    "        list2.append(curr)\n",
    "  \n",
    "    # delete empty lists\n",
    "    templist=[]\n",
    "    for x in list2:\n",
    "        if x != []:\n",
    "            templist.append(x)\n",
    "    list2=templist\n",
    "\n",
    "    # merge the two lists\n",
    "    x=0\n",
    "    while x < len(list1):\n",
    "        temp = list1[x]\n",
    "        temp.append(list2[x][0])\n",
    "        list1[x] = temp\n",
    "        x+=1\n",
    "\n",
    "    stats = np.asarray(list1)\n",
    "\n",
    "    return stats"
   ]
  },
  {
   "cell_type": "code",
   "execution_count": 59,
   "metadata": {
    "collapsed": false,
    "deletable": false,
    "nbgrader": {
     "checksum": "1df84610ba8307c33ac2475bf55e3bc7",
     "grade": false,
     "grade_id": "get_stats_print",
     "locked": true,
     "solution": false
    }
   },
   "outputs": [
    {
     "name": "stdout",
     "output_type": "stream",
     "text": [
      "Total population (2015)                                                         : 64,395,000\n",
      "Gross national income per capita (PPP international $, 2013)                    : 37\n",
      "Life expectancy at birth m/f (years, 2015)                                      : 79/85\n",
      "Probability of dying under five (per 1 000 live births, 0)                      : not available\n",
      "Probability of dying between 15 and 60 years m/f (per 1 000 population, 2015)   : 104/51\n",
      "Total expenditure on health per capita (Intl $, 2014)                           : 4,508\n",
      "Total expenditure on health as % of GDP (2014)                                  : 11.5\n"
     ]
    }
   ],
   "source": [
    "# print out the result for France\n",
    "t1_stats = get_country_stats('France')\n",
    "for col, num in t1_stats:\n",
    "    print('{0:80s}: {1:s}'.format(col, num))"
   ]
  },
  {
   "cell_type": "code",
   "execution_count": 15,
   "metadata": {
    "collapsed": false,
    "deletable": false,
    "nbgrader": {
     "checksum": "91e07b48a04b8582b445559b4d2ed429",
     "grade": true,
     "grade_id": "get_stats_test",
     "locked": true,
     "points": 10,
     "solution": false
    }
   },
   "outputs": [],
   "source": [
    "france = [['Total population (2015)', '64,395,000'],\n",
    "          ['Gross national income per capita (PPP international $, 2013)', '37'],\n",
    "          ['Life expectancy at birth m/f (years, 2015)', '79/85'],\n",
    "          ['Probability of dying under five (per 1 000 live births, 0)', 'not available'],\n",
    "          ['Probability of dying between 15 and 60 years m/f (per 1 000 population, 2015)', '104/51'],\n",
    "          ['Total expenditure on health per capita (Intl $, 2014)', '4,508'],\n",
    "          ['Total expenditure on health as % of GDP (2014)', '11.5']]\n",
    "assert_array_equal(t1_stats, france)\n",
    "\n",
    "germany = [['Total population (2015)', '80,688,000'],\n",
    "           ['Gross national income per capita (PPP international $, 2013)', '44'],\n",
    "           ['Life expectancy at birth m/f (years, 2015)', '79/83'],\n",
    "           ['Probability of dying under five (per 1 000 live births, 0)', 'not available'],\n",
    "           ['Probability of dying between 15 and 60 years m/f (per 1 000 population, 2015)', '87/47'],\n",
    "           ['Total expenditure on health per capita (Intl $, 2014)', '5,182'],\n",
    "           ['Total expenditure on health as % of GDP (2014)', '11.3']]\n",
    "t2_stats = get_country_stats('Germany')\n",
    "assert_array_equal(t2_stats, germany)\n",
    "\n",
    "andorra = [['Total population (2015)', '70,000'],\n",
    "           ['Gross national income per capita (PPP international $, 0)', 'not available'],\n",
    "           ['Life expectancy at birth m/f (years, 0)', 'not available'],\n",
    "           ['Probability of dying under five (per 1 000 live births, 0)', 'not available'],\n",
    "           ['Probability of dying between 15 and 60 years m/f (per 1 000 population, 0)', 'not available'],\n",
    "           ['Total expenditure on health per capita (Intl $, 2014)', '4,273'],\n",
    "           ['Total expenditure on health as % of GDP (2014)', '8.1']]\n",
    "t3_stats = get_country_stats('Andorra')\n",
    "assert_array_equal(t3_stats, andorra)"
   ]
  },
  {
   "cell_type": "markdown",
   "metadata": {},
   "source": [
    "## 3. Function: get_all_countries\n",
    "\n",
    "On the WHO webpage, there are 194 member states. Write a function named `get_all_countries` that takes the WHO url as input, and returns a list of all 194 country names (a list of strings). The order of country names should be identical to the order on the WHO webpage, i.e. alphabetical order. *Hint:* find tags and attributes that makes country names distinct from other website elements."
   ]
  },
  {
   "cell_type": "code",
   "execution_count": 18,
   "metadata": {
    "collapsed": true,
    "deletable": false,
    "nbgrader": {
     "checksum": "f4ab5565d63d39a319bc1438a21f9af3",
     "grade": false,
     "grade_id": "get_countries",
     "locked": false,
     "solution": true
    }
   },
   "outputs": [],
   "source": [
    "def get_all_countries(url=who):\n",
    "    '''\n",
    "    Finds names of 194 memeber states on the WHO webpage as a list of strings.\n",
    "    \n",
    "    Parameters\n",
    "    ----------\n",
    "    url: A string. Default: 'http://www.who.int/countries/en/'\n",
    "    \n",
    "    Returns\n",
    "    -------\n",
    "    A list of the names of 194 WHO member states.\n",
    "    '''\n",
    "    # get the raw info\n",
    "    response = requests.get(url)\n",
    "    # turn it into a soup\n",
    "    soup = BeautifulSoup(response.content,\"lxml\")\n",
    "    # declare arrays\n",
    "    links=[]\n",
    "    countries=[]\n",
    "    # identify all the links in the main soup and make an array of them in string form\n",
    "    for link in soup.find_all('a'):\n",
    "        links.append(str(link))\n",
    "    # start at 13 because there was a problematic country string in the top that had all the identifiers that I wanted    \n",
    "    for link in links[13:]:\n",
    "        #check for /countries/ in the link\n",
    "        if '/countries/' in link:\n",
    "            #turns out that doesnt always work so i also need to look for <span> in the line\n",
    "            if '<span>' in link:\n",
    "                list123=link.split(\">\")\n",
    "                # split the like at >; the 3rd elemnt is the country name, make sure to remove the rest of the tag\n",
    "                countries.append(list123[2][:-6])\n",
    "    \n",
    "    return countries"
   ]
  },
  {
   "cell_type": "code",
   "execution_count": 19,
   "metadata": {
    "collapsed": false,
    "deletable": false,
    "nbgrader": {
     "checksum": "8f184001f23c2ffa7eb77bf5b6baf331",
     "grade": true,
     "grade_id": "get_countries_test",
     "locked": true,
     "points": 5,
     "solution": false
    }
   },
   "outputs": [],
   "source": [
    "country_names = get_all_countries()\n",
    "answer = ['Afghanistan', 'Albania', 'Algeria', 'Andorra', 'Angola', 'Antigua and Barbuda', 'Argentina', 'Armenia', \n",
    "          'Australia', 'Austria', 'Azerbaijan', 'Bahamas', 'Bahrain', 'Bangladesh', 'Barbados', 'Belarus', 'Belgium', \n",
    "          'Belize', 'Benin', 'Bhutan', 'Bolivia (Plurinational State of)', 'Bosnia and Herzegovina', 'Botswana', 'Brazil', \n",
    "          'Brunei Darussalam', 'Bulgaria', 'Burkina Faso', 'Burundi', 'Cabo Verde', 'Cambodia', 'Cameroon', 'Canada', \n",
    "          'Central African Republic', 'Chad', 'Chile', 'China', 'Colombia', 'Comoros', 'Congo', 'Cook Islands', 'Costa Rica', \n",
    "          \"Côte d'Ivoire\", 'Croatia', 'Cuba', 'Cyprus', 'Czechia', \"Democratic People's Republic of Korea\", \n",
    "          'Democratic Republic of the Congo', 'Denmark', 'Djibouti', 'Dominica', 'Dominican Republic', 'Ecuador', 'Egypt', \n",
    "          'El Salvador', 'Equatorial Guinea', 'Eritrea', 'Estonia', 'Ethiopia', 'Fiji', 'Finland', 'France', 'Gabon', 'Gambia', \n",
    "          'Georgia', 'Germany', 'Ghana', 'Greece', 'Grenada', 'Guatemala', 'Guinea', 'Guinea-Bissau', 'Guyana', 'Haiti', \n",
    "          'Honduras', 'Hungary', 'Iceland', 'India', 'Indonesia', 'Iran (Islamic Republic of)', 'Iraq', 'Ireland', 'Israel', \n",
    "          'Italy', 'Jamaica', 'Japan', 'Jordan', 'Kazakhstan', 'Kenya', 'Kiribati', 'Kuwait', 'Kyrgyzstan', \n",
    "          \"Lao People's Democratic Republic\", 'Latvia', 'Lebanon', 'Lesotho', 'Liberia', 'Libya', 'Lithuania', 'Luxembourg', \n",
    "          'Madagascar', 'Malawi', 'Malaysia', 'Maldives', 'Mali', 'Malta', 'Marshall Islands', 'Mauritania', 'Mauritius', \n",
    "          'Mexico', 'Micronesia (Federated States of)', 'Monaco', 'Mongolia', 'Montenegro', 'Morocco', 'Mozambique', 'Myanmar', \n",
    "          'Namibia', 'Nauru', 'Nepal', 'Netherlands', 'New Zealand', 'Nicaragua', 'Niger', 'Nigeria', 'Niue', 'Norway', 'Oman', \n",
    "          'Pakistan', 'Palau', 'Panama', 'Papua New Guinea', 'Paraguay', 'Peru', 'Philippines', 'Poland', 'Portugal', 'Qatar', \n",
    "          'Republic of Korea', 'Republic of Moldova', 'Romania', 'Russian Federation', 'Rwanda', 'Saint Kitts and Nevis', \n",
    "          'Saint Lucia', 'Saint Vincent and the Grenadines', 'Samoa', 'San Marino', 'Sao Tome and Principe', 'Saudi Arabia', \n",
    "          'Senegal', 'Serbia ', 'Seychelles', 'Sierra Leone', 'Singapore', 'Slovakia', 'Slovenia', 'Solomon Islands', 'Somalia', \n",
    "          'South Africa', 'South Sudan', 'Spain', 'Sri Lanka', 'Sudan', 'Suriname', 'Swaziland', 'Sweden', 'Switzerland', \n",
    "          'Syrian Arab Republic', 'Tajikistan', 'Thailand', 'The former Yugoslav Republic of Macedonia', 'Timor-Leste', 'Togo', \n",
    "          'Tonga', 'Trinidad and Tobago', 'Tunisia', 'Turkey', 'Turkmenistan', 'Tuvalu', 'Uganda', 'Ukraine', \n",
    "          'United Arab Emirates', 'United Kingdom', 'United Republic of Tanzania', 'United States of America', 'Uruguay', \n",
    "          'Uzbekistan', 'Vanuatu', 'Venezuela (Bolivarian Republic of)', 'Viet Nam', 'Yemen', 'Zambia', 'Zimbabwe']\n",
    "assert_array_equal(answer, country_names)"
   ]
  },
  {
   "cell_type": "markdown",
   "metadata": {},
   "source": [
    "## 4. Function: get_combined_dataframe\n",
    "\n",
    "Write a funciton named `get_combined_dataframe` that takes a list of country names and a list of columns as input, and returns a pandas DataFrame constructed from the statistical data found on the website of each country. Use the input list of columns as column names of the DataFrame, and the input list of country names as index. We'll use the following list of columns named `cols` as default for the function:"
   ]
  },
  {
   "cell_type": "code",
   "execution_count": 10,
   "metadata": {
    "collapsed": false,
    "deletable": false,
    "nbgrader": {
     "checksum": "539a4903d4be6f2552a8235491dc1ad2",
     "grade": false,
     "grade_id": "cols",
     "locked": true,
     "solution": false
    }
   },
   "outputs": [],
   "source": [
    "cols = ['Total population',\n",
    "        'Gross national income per capita (PPP international $)',\n",
    "        'Life expectancy at birth m/f (years)',\n",
    "        'Probability of dying under five (per 1 000 live births)',\n",
    "        'Probability of dying between 15 and 60 years m/f (per 1 000 population)',\n",
    "        'Total expenditure on health per capita (Intl $)',\n",
    "        'Total expenditure on health as % of GDP']"
   ]
  },
  {
   "cell_type": "markdown",
   "metadata": {},
   "source": [
    "The reason why we need to specify the column names is that the data for some countries are obtained in different years as the rest of countries. For example, `Gross national income per capita` for `Bahamas` is taken in year 2012, whereas that for most other countries is taken in year 2013, which makes its table have different data names. Other than the year differece, data for all countries have identical structure, so I remove the years in the column names to simplify the task.\n",
    " \n",
    "If the input is `['Afghanistan', 'Albania', 'Algeria', 'Andorra', 'Angola']`, then your output should look like this: \n",
    "![](./images/table.png)\n",
    "To keep data identical to what you extract from each country's website, make sure the data type of the DataFrame is string for all columns.\n",
    "\n",
    "Note that the result from `get_country_stats` is a column-oriented list (each element in the list represents a column to put in the DataFrame). If you wish to operate with a row-oriented list, you can always convert it by using `np.transpose`."
   ]
  },
  {
   "cell_type": "code",
   "execution_count": 40,
   "metadata": {
    "collapsed": false,
    "deletable": false,
    "nbgrader": {
     "checksum": "8893e9055d6318977f5aa5618b8a7337",
     "grade": false,
     "grade_id": "get_df",
     "locked": false,
     "solution": true
    }
   },
   "outputs": [],
   "source": [
    "def get_combined_dataframe(countries, cols=cols):\n",
    "    '''\n",
    "    Combines data for each country as a dataframe using specified column names as columns and country names as index.\n",
    "    \n",
    "    Parameters\n",
    "    ----------\n",
    "    country: A list of string. Names of the countries.\n",
    "    cols: A list of string. Default: the list defined above this cell.\n",
    "    \n",
    "    Returns\n",
    "    -------\n",
    "    A pandas DataFrame object.\n",
    "    '''\n",
    "    #create a list\n",
    "    country_data = list()\n",
    "\n",
    "    # add each country's data to the list\n",
    "    # only get the data, not the rest of the info and append it to the list\n",
    "    for i in countries:\n",
    "        curr = get_country_stats(i)\n",
    "        current =curr[1]\n",
    "        curr = [el[1] for el in curr]\n",
    "        country_data.append(curr)\n",
    "\n",
    "    # create my DataFrame\n",
    "\n",
    "    df = np.transpose(pd.DataFrame(index=countries, columns=cols))\n",
    "    \n",
    "    # add entire data list into column\n",
    "    length = len(df.columns)\n",
    "    x=0\n",
    "    while x < length:\n",
    "        df[df.columns[x]] = country_data[x]\n",
    "        x+=1    \n",
    "    combined_df = np.transpose(df)\n",
    "    return combined_df"
   ]
  },
  {
   "cell_type": "code",
   "execution_count": 41,
   "metadata": {
    "collapsed": false,
    "deletable": false,
    "nbgrader": {
     "checksum": "2f709c7c6c199073648f45f9b4fab297",
     "grade": true,
     "grade_id": "get_df_test",
     "locked": true,
     "points": 15,
     "solution": false
    }
   },
   "outputs": [],
   "source": [
    "countries1 = ['China', 'Egypt', 'United States of America']\n",
    "df1 = get_combined_dataframe(countries1)\n",
    "assert_is_instance(df1, pd.DataFrame)\n",
    "a1 = pd.DataFrame ([['1,400,000,000', '11', '75/78', 'not available', '98/71', '731','5.5'],\n",
    "                    ['91,508,000', '10', '69/73', 'not available', '196/119', '594','5.6'],\n",
    "                    ['321,774,000', '53', '77/82', 'not available', '128/77', '9,403','17.1']], \n",
    "                   columns=cols, index=countries1)\n",
    "assert_frame_equal(df1, a1)\n",
    "\n",
    "countries2 = country_names[100:110]\n",
    "df2 = get_combined_dataframe(countries2)\n",
    "a2 = pd.DataFrame([['24,235,000', '1', '64/67', 'not available', '245/196', '44', '3.0'],\n",
    "                   ['17,215,000', '750', '57/60', 'not available', '398/330', '93','11.4'],\n",
    "                   ['30,331,000', '22', '73/77', 'not available', '167/79', '1,040','4.2'],\n",
    "                   ['364,000', '9', '77/80', 'not available', '79/43', '1,996', '13.7'],\n",
    "                   ['17,600,000', '1', '58/58', 'not available', '266/267', '108','6.9'],\n",
    "                   ['419,000', '28', '80/84', 'not available', '70/37', '3,072', '9.8'],\n",
    "                   ['53,000', '4', 'not available', 'not available', 'not available','680', '17.1'],\n",
    "                   ['4,068,000', '2', '62/65', 'not available', '227/182', '148', '3.8'],\n",
    "                   ['1,273,000', '17', '71/78', 'not available', '190/99', '896', '4.8'],\n",
    "                   ['127,017,000', '16', '74/80', 'not available', '161/82', '1,122','6.3']],\n",
    "                 columns=cols, index=countries2)\n",
    "assert_frame_equal(df2, a2)"
   ]
  },
  {
   "cell_type": "code",
   "execution_count": null,
   "metadata": {
    "collapsed": true
   },
   "outputs": [],
   "source": []
  }
 ],
 "metadata": {
  "kernelspec": {
   "display_name": "Python 3",
   "language": "python",
   "name": "python3"
  },
  "language_info": {
   "codemirror_mode": {
    "name": "ipython",
    "version": 3
   },
   "file_extension": ".py",
   "mimetype": "text/x-python",
   "name": "python",
   "nbconvert_exporter": "python",
   "pygments_lexer": "ipython3",
   "version": "3.5.2"
  }
 },
 "nbformat": 4,
 "nbformat_minor": 2
}
